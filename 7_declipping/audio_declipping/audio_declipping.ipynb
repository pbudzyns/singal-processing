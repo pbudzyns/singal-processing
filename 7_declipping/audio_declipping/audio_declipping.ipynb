{
 "cells": [
  {
   "cell_type": "markdown",
   "id": "f0f533a9",
   "metadata": {},
   "source": [
    "# Audio declipping with social sparsity \n",
    "### Author: Pawel Budzynski\n",
    "\n",
    "In this exercise I am going to implement audio declipping with social sparsity described in the paper: _Siedenburg, K., Kowalski, M., & Dörfler, M. (2014, May). Audio declipping with social sparsity._"
   ]
  },
  {
   "cell_type": "code",
   "execution_count": 1,
   "id": "c67e8038",
   "metadata": {},
   "outputs": [],
   "source": [
    "from typing import Callable, Tuple\n",
    "\n",
    "import IPython\n",
    "import matplotlib.pyplot as plt\n",
    "import numpy as np\n",
    "import scipy.io.wavfile\n",
    "import scipy.signal"
   ]
  },
  {
   "cell_type": "markdown",
   "id": "52582d34",
   "metadata": {},
   "source": [
    "Load and play sound that is going to be used in the rest of the exercise."
   ]
  },
  {
   "cell_type": "code",
   "execution_count": null,
   "id": "ee6486c3",
   "metadata": {},
   "outputs": [],
   "source": [
    "sample_rate, sound = scipy.io.wavfile.read(\"music.wav\")\n",
    "IPython.display.Audio(data=sound, rate=sample_rate)"
   ]
  },
  {
   "cell_type": "markdown",
   "id": "d0f45bdb",
   "metadata": {},
   "source": [
    "Define signal pre processing function so it matches requirements of the algorithm. "
   ]
  },
  {
   "cell_type": "code",
   "execution_count": 3,
   "id": "36916b44",
   "metadata": {},
   "outputs": [],
   "source": [
    "def normalize_signal(\n",
    "    signal: np.ndarray,\n",
    ") -> np.ndarray:\n",
    "    \"\"\"Normalize signal values to [-1, 1] range.\"\"\"\n",
    "    return signal.astype(np.float64) / 2**15\n",
    "\n",
    "def clip_signal(\n",
    "    signal: np.ndarray,\n",
    "    level: float,\n",
    ") -> np.ndarray:\n",
    "    \"\"\"Takes normalized signal, clip it into a given level and \n",
    "    scales it back to [-1, 1] range. \n",
    "    \"\"\"\n",
    "    return np.clip(signal, -level, level)"
   ]
  },
  {
   "cell_type": "code",
   "execution_count": null,
   "id": "cdaeac22",
   "metadata": {},
   "outputs": [],
   "source": [
    "sound_norm = normalize_signal(sound)\n",
    "plt.plot(sound_norm)\n",
    "plt.title(\"Normalized signal.\")\n",
    "plt.show()\n",
    "\n",
    "sound_clip = clip_signal(sound_norm, 0.5)\n",
    "plt.plot(sound_clip)\n",
    "plt.title(\"Clipped signal.\")\n",
    "plt.show()\n",
    "\n",
    "IPython.display.Audio(\n",
    "    data=(sound_clip*2**15).astype(np.int16),\n",
    "    rate=sample_rate,\n",
    ")"
   ]
  },
  {
   "cell_type": "code",
   "execution_count": 5,
   "id": "214cbdaa",
   "metadata": {},
   "outputs": [],
   "source": [
    "def get_mask(\n",
    "    signal: np.ndarray,\n",
    "    eps: float = 1e-6,\n",
    ") -> np.ndarray:\n",
    "    \"\"\"Get mask marking clipped samples with given accuracy.\n",
    "    Equality comparison of floating point numbers is not recommended.\"\"\"\n",
    "    m1 = signal >= np.max(signal) - eps\n",
    "    m2 = signal <= np.min(signal) + eps\n",
    "    return (m1 + m2).astype(np.int16)"
   ]
  },
  {
   "cell_type": "code",
   "execution_count": 6,
   "id": "bfa396a0",
   "metadata": {},
   "outputs": [
    {
     "data": {
      "image/png": "[encoded data removed]",
      "text/plain": [
       "<Figure size 432x288 with 1 Axes>"
      ]
     },
     "metadata": {
      "needs_background": "light"
     },
     "output_type": "display_data"
    }
   ],
   "source": [
    "m = get_mask(sound_clip)\n",
    "plt.scatter(np.arange(0, len(m)), m*sound_clip, marker='.')\n",
    "plt.title(\"Clipped samples\")\n",
    "plt.show()"
   ]
  },
  {
   "cell_type": "markdown",
   "id": "7482f95c",
   "metadata": {},
   "source": [
    "Thresholding rules that might be used in the algorithm. "
   ]
  },
  {
   "cell_type": "code",
   "execution_count": 7,
   "id": "bfd24f9c",
   "metadata": {},
   "outputs": [],
   "source": [
    "def soft_threshold(\n",
    "    arr: np.ndarray,\n",
    "    t: float,\n",
    ") -> np.ndarray:\n",
    "    \"\"\"Perform soft thresholding on an array of values.\"\"\"\n",
    "    return arr * np.maximum(0, 1 - t / np.abs(arr))\n",
    "\n",
    "def wgl(\n",
    "    arr: np.ndarray,\n",
    "    t: float,\n",
    "    w: int = 3,\n",
    ") -> np.ndarray:\n",
    "    \"\"\"Windowed Group-Lasso thresholding.\"\"\"\n",
    "    kernel = np.ones((1, w))\n",
    "    neighborhood = scipy.signal.convolve2d(\n",
    "        np.abs(arr)**2,\n",
    "        kernel,\n",
    "        mode='same',\n",
    "        fillvalue=0.0,\n",
    "    )\n",
    "    \n",
    "    return arr * np.maximum(0, 1 - t / np.sqrt(neighborhood))\n",
    "\n",
    "\n",
    "def empirical_weiner(\n",
    "    arr: np.ndarray,\n",
    "    t: float,\n",
    ") -> np.ndarray:\n",
    "    \"\"\"Perform thresholding using Empirical Weiner rule.\"\"\"\n",
    "    return arr * np.maximum(0, 1 - (t**2 / np.abs(arr)**2))\n",
    "\n",
    "\n",
    "def pew(\n",
    "    arr: np.ndarray,\n",
    "    t: float,\n",
    "    w: int = 3,\n",
    ") -> np.ndarray:\n",
    "    \"\"\"Persistent Empirical Weiner thresholding.\"\"\"\n",
    "    kernel = np.ones((1, w))\n",
    "    neighborhood = scipy.signal.convolve2d(\n",
    "        np.abs(arr)**2, \n",
    "        kernel, \n",
    "        mode='same',\n",
    "        fillvalue=0.0,\n",
    "    )\n",
    "    \n",
    "    return arr * np.maximum(0, 1 - (t**2 / neighborhood))"
   ]
  },
  {
   "cell_type": "markdown",
   "id": "aa805b17",
   "metadata": {},
   "source": [
    "The unconstrained convex optimization problem \n",
    "\\begin{equation}\n",
    "\\underset{\\alpha}{\\mathrm{argmin}} \\frac{1}{2} ||y^r - M^r \\Phi \\alpha ||^2_2 + \\frac{1}{2}\\left[\\theta^{clip} - M^{c}\\Phi\\alpha\\right]^2_{+} + \\lambda||\\alpha||_1\n",
    "\\end{equation}\n",
    "\n",
    "Initialization: \n",
    "$\\alpha^{(0)}\\in\\mathbb{C}^N, z^{(0)} = \\alpha^{(0)}, k = 1, \\delta = ||\\Phi \\Phi^{*}||.$\n",
    "Do until convergence :\n",
    "\n",
    "$g1 = -\\Phi^{*} {M^{r}}^{T} \\left(y^r - M^r \\Phi z^{(k-1)}\\right)$\n",
    "\n",
    "$g2 = -\\Phi^{*} {M^{c}}^{T} \\left[\\theta^{clip} - M^c \\Phi z^{(k-1)}\\right]_{+}$\n",
    "\n",
    "$\\alpha^{(k)} = \\mathcal{S}_{\\lambda / \\delta} \n",
    "\\left( z^{(k-1)} - \\frac{1}{\\delta}(g1 + g2) \\right)$\n",
    "\n",
    "$z^{(k)} = \\alpha^{(k)} + \\gamma \\left(\\alpha^{(k)} - \\alpha^{(k-1)}\\right)$\n",
    "\n",
    "<!-- - $ α^{(t+1)} = \\mathcal{S}_{\\lambda/L} \\left( z^{(t)} + \\frac{1}{L}\\Phi^* A^* \\left( y - A\\Phi z^{(t)} \\right) \\right)$\n",
    "- $z^{(t+1)} = \\alpha^{(t+1)} + \\frac{t}{t+5} \\left( \\alpha^{(t+1)} - \\alpha^{(t)} \\right)$ -->\n"
   ]
  },
  {
   "cell_type": "markdown",
   "id": "1d892685",
   "metadata": {},
   "source": [
    "Where\n",
    "- $y$ - observed signal.\n",
    "- $y^{r}$ - reliable samples of the observed signal $y$.\n",
    "- $\\Phi$ - a dictionary / frame.\n",
    "- $M^{r}$ - a mask selecting reliable samples from signal.\n",
    "- $M^{c}$ - a mask matrix selecting clipped samples.\n",
    "- $\\theta^{clip}$ - vector of clipped samples.\n",
    "- $\\mathcal{S}_{\\tau}$ - threshold function with threshold $\\tau$.\n",
    "\n",
    "Remembering that $z$ are coefficients, the mentioned elements of the equation can be interpreted in a following way\n",
    "- $\\Phi^{*} s$ - STFT transform (computing coefficients for a signal $s$). \n",
    "- $\\Phi \\alpha$ - inverse STFT transform (reconstructing signal from coefficients $\\alpha$).\n",
    "\n",
    "The goal is to compute coefficients $\\hat{\\alpha}$ that will allow to reconstruct declipped version of the observed signal $\\hat{y} = \\Phi^{*}\\hat{\\alpha}$."
   ]
  },
  {
   "cell_type": "markdown",
   "id": "c074fba8",
   "metadata": {},
   "source": [
    "Parameters initialization in practice: \n",
    "- $\\Phi$ is a Parseval Frame, hence $\\Phi\\Phi^*x = x$, then $\\delta = || \\Phi\\Phi^*|| = 1$ \n",
    "- $\\alpha^{(0)} = \\Phi y$ "
   ]
  },
  {
   "cell_type": "markdown",
   "id": "c88aed93",
   "metadata": {},
   "source": [
    "Implementation note: In the paper masking is done by matrix multiplication in such a way that selected samples perserve their values while others take value of $0$. In this exercise implementation is realised with element wise multiplications. Hence multiplication by transposed matrices in $g1$ and $g2$ were skipped in the implementation as they serve only to get back signal to a correct shape which does not change in case of element wise multiplications."
   ]
  },
  {
   "cell_type": "code",
   "execution_count": 8,
   "id": "9b08ac3f",
   "metadata": {},
   "outputs": [],
   "source": [
    "Phi = lambda a: scipy.signal.istft(a, sample_rate)[-1]\n",
    "PhiS = lambda s: scipy.signal.stft(s, sample_rate, nperseg=1000)[-1]"
   ]
  },
  {
   "cell_type": "code",
   "execution_count": 9,
   "id": "e0318a14",
   "metadata": {},
   "outputs": [],
   "source": [
    "def h(theta, x):\n",
    "    \"\"\"Implementation of [.]+ operator.\"\"\"\n",
    "    zero_idx = (x > theta) + (x < -theta)\n",
    "    res = theta - x\n",
    "    res[zero_idx] = 0\n",
    "    return res\n",
    "\n",
    "def h_sq(theta, x):\n",
    "    \"\"\"Squared hinge function implementation.\"\"\"\n",
    "    def h2(z):\n",
    "        return np.minimum(z, 0)**2\n",
    "    pos_idx = theta > 0\n",
    "    neg_idx = theta < 0\n",
    "    return (\n",
    "        np.sum(h2(x[pos_idx] - theta[pos_idx]))\n",
    "        + np.sum(h2(theta[neg_idx] - x[neg_idx]))\n",
    "    )\n",
    "\n",
    "def loss_fn(yr, Phi, Mr, Mc, theta, alpha, lambd):\n",
    "    \"\"\"Loss function implementation.\"\"\"\n",
    "    fr = Phi(alpha)\n",
    "    return (\n",
    "        0.5 * np.sum((yr - Mr * fr)**2)\n",
    "        + 0.5 * h_sq(theta, Mc * fr)\n",
    "        + lambd * np.sum(np.abs(alpha))\n",
    "    )"
   ]
  },
  {
   "cell_type": "code",
   "execution_count": 10,
   "id": "add163f8",
   "metadata": {},
   "outputs": [],
   "source": [
    "# initialize algorithm\n",
    "sound_clip = clip_signal(sound_norm, 0.6)\n",
    "\n",
    "# Transform and inverse transform signal to get proper shape array.\n",
    "y = Phi(PhiS(sound_clip))\n",
    "# Matrix selecting clipped samples.\n",
    "Mc = get_mask(y)\n",
    "# Matrix selecting reliable samples from the signal.\n",
    "Mr = 1 - Mc\n",
    "# Reliable samples of the observed signal.\n",
    "yr = Mr * y\n",
    "# The vector of clipped samples.\n",
    "theta_c = y * Mc\n",
    "\n",
    "# Initialize algorithm parameters.\n",
    "a = PhiS(y)\n",
    "z = a.copy()\n",
    "\n",
    "# During the algorithm lambda value will be decreased each time a convegence\n",
    "# is reached. Values from lambda vector are taken from the paper.\n",
    "lambdas = (0.1, 0.0464, 0.0215, 0.01, 0.0046, 0.0022, 0.001, 0.0005)\n",
    "delta = 1\n",
    "# Gamma value proposed in the paper as the one with the best performance.\n",
    "gamma = 0.9\n",
    "max_iter = 1000 # maximal number of iterations accepted\n",
    "eps = 1e-3 # minimal loss change before convergence\n",
    "loss = []\n",
    "i = 0\n",
    "\n",
    "for _ in range(max_iter):\n",
    "    lambd = lambdas[i]\n",
    "    a_prev = a.copy()\n",
    "    sound_rec = Phi(z) \n",
    "    \n",
    "    g1 = -PhiS(yr - Mr * sound_rec)\n",
    "    g2 = -PhiS(h(theta_c, Mc * sound_rec))\n",
    "    \n",
    "    a = soft_threshold(z - (1/delta) * (g1 + g2), lambd/delta)\n",
    "    z = a + gamma*(a - a_prev)\n",
    "    \n",
    "    loss.append(loss_fn(yr, Phi, Mr, Mc, theta_c, z, lambd))\n",
    "    if len(loss) > 2 and abs(loss[-2] - loss[-1]) < eps:\n",
    "        i += 1\n",
    "        if i < len(lambdas):\n",
    "            continue\n",
    "        else:\n",
    "            break"
   ]
  },
  {
   "cell_type": "code",
   "execution_count": null,
   "id": "e1ad3a12",
   "metadata": {
    "scrolled": false
   },
   "outputs": [],
   "source": [
    "# Inverse STFT to reconstruct signal from coefficients.\n",
    "sound_rec = Phi(a)\n",
    "\n",
    "plt.plot(y)\n",
    "plt.title(\"Clipped signal.\")\n",
    "plt.show()\n",
    "\n",
    "plt.plot(sound_rec)\n",
    "plt.title(\"Declipped signal.\")\n",
    "plt.show()\n",
    "\n",
    "plt.plot(loss)\n",
    "plt.title(\"Loss function.\")\n",
    "plt.show()\n",
    "\n",
    "IPython.display.Audio(\n",
    "    data=(sound_rec*2**15).astype(np.int16),\n",
    "    rate=sample_rate,\n",
    ")"
   ]
  },
  {
   "cell_type": "markdown",
   "id": "d9c7f5e4",
   "metadata": {},
   "source": [
    "In the experiment above the relaxed version or declipping algorithm was implemented successfully and produced great results for $\\theta^{clip} = 0.6$. The peaks of reconstructed signal almost reach their original points and the output sound has significantly better quality. In the later part of the exercise more experiments with algorith parameters are discussed."
   ]
  },
  {
   "cell_type": "code",
   "execution_count": 12,
   "id": "6115f5cb",
   "metadata": {},
   "outputs": [],
   "source": [
    "def audio_declipping(\n",
    "    audio: np.ndarray,\n",
    "    sample_rate: int,\n",
    "    gamma: float = 0.9,\n",
    "    threshold_fn: Callable = soft_threshold,\n",
    "    max_iter: int = 1000,\n",
    "    eps: float = 1e-3,\n",
    ") -> Tuple[np.ndarray]:\n",
    "    \"\"\"Audio declipping with social sparsity. Performs audio declipping \n",
    "    for given signal. Returns reconstructed signal and values of loss function.\n",
    "    \n",
    "    Parameters:\n",
    "        audio: clipped audio signal. \n",
    "        sample_rate: audio sample rate.\n",
    "        gamma: gamma parameter used in the algorithm.\n",
    "        threshold_fn: thresholding rule to use.\n",
    "        max_iter: maximum number of iterations allowed.\n",
    "        eps: maximal difference in loss before convergence.\n",
    "    \"\"\"\n",
    "    \n",
    "    # STFT and Inverse STFT helper functions.\n",
    "    Phi = lambda a: scipy.signal.istft(a, sample_rate)[-1]\n",
    "    PhiS = lambda s: scipy.signal.stft(s, sample_rate, window='hann', nperseg=512)[-1]\n",
    "    \n",
    "    # Values vectors and masks used in the algorithm. \n",
    "    y = Phi(PhiS(audio))\n",
    "    Mc = get_mask(y)\n",
    "    Mr = 1 - Mc\n",
    "    yr = Mr * y\n",
    "    theta_c = y * Mc\n",
    "\n",
    "    # Parameters initialization.\n",
    "    a = PhiS(y)\n",
    "    z = a.copy()\n",
    "\n",
    "    # Value of lambda parameter are going to decrease each time convergence\n",
    "    # was reached. Values for lambda are taken from the original paper. \n",
    "    lambdas = (0.1, 0.0464, 0.0215, 0.01, 0.0046, 0.0022, 0.001, 0.0005)\n",
    "    delta = 1\n",
    "    loss = []\n",
    "    i = 0\n",
    "\n",
    "    for _ in range(max_iter):\n",
    "        lambd = lambdas[i]\n",
    "        a_prev = a.copy()\n",
    "        sound_rec = Phi(z) \n",
    "\n",
    "        g1 = -PhiS(yr - Mr * sound_rec)\n",
    "        g2 = -PhiS(h(theta_c, Mc * sound_rec))\n",
    "\n",
    "        a = threshold_fn(z - (1/delta) * (g1 + g2), lambd/delta)\n",
    "        z = a + gamma*(a - a_prev)\n",
    "\n",
    "        loss.append(loss_fn(yr, Phi, Mr, Mc, theta_c, z, lambd))\n",
    "        if len(loss) > 2 and abs(loss[-2] - loss[-1]) < eps:\n",
    "            i += 1\n",
    "            if i < len(lambdas):\n",
    "                continue\n",
    "            else:\n",
    "                break\n",
    "            \n",
    "    return Phi(z)[:len(audio)], loss"
   ]
  },
  {
   "cell_type": "code",
   "execution_count": null,
   "id": "0b1db49b",
   "metadata": {},
   "outputs": [],
   "source": [
    "sound_clip = clip_signal(sound_norm, 0.6)\n",
    "audio_rec, loss = audio_declipping(\n",
    "    sound_clip, \n",
    "    sample_rate,\n",
    ")\n",
    "\n",
    "plt.figure(figsize=(10, 5))\n",
    "plt.subplot(3, 1, 1)\n",
    "plt.plot(sound_norm)\n",
    "plt.title(\"Original signal.\")\n",
    "plt.subplot(3, 1, 2)\n",
    "plt.plot(audio_rec)\n",
    "plt.title(\"Declipped signal\")\n",
    "plt.subplot(3, 1, 3)\n",
    "plt.plot(loss)\n",
    "plt.title(\"Loss function.\")\n",
    "plt.show()\n",
    "\n",
    "IPython.display.Audio(\n",
    "    data=(audio_rec*2**15).astype(np.int16),\n",
    "    rate=sample_rate,\n",
    ")"
   ]
  },
  {
   "cell_type": "code",
   "execution_count": 14,
   "id": "0ce05985",
   "metadata": {},
   "outputs": [],
   "source": [
    "def snr(clipped_signal, declipped_signal):\n",
    "    \"\"\"Return signal to noise ratio given \n",
    "    clipped signal and its declipped version.\n",
    "    \"\"\"\n",
    "    mc = get_mask(clipped_signal)\n",
    "    return 20 * np.log(\n",
    "        np.linalg.norm(mc*clipped_signal) \n",
    "        / np.linalg.norm(mc*(clipped_signal-declipped_signal))\n",
    "    )"
   ]
  },
  {
   "cell_type": "code",
   "execution_count": 15,
   "id": "84086785",
   "metadata": {},
   "outputs": [
    {
     "data": {
      "text/plain": [
       "39.45132557883333"
      ]
     },
     "execution_count": 15,
     "metadata": {},
     "output_type": "execute_result"
    }
   ],
   "source": [
    "snr(sound_clip, audio_rec)"
   ]
  },
  {
   "cell_type": "markdown",
   "id": "c24156c5",
   "metadata": {},
   "source": [
    "## Parameters discussion\n",
    "### Clip level vs SNR\n",
    "In this part experiment is performed to check how clip level impacts SNR for declipped audio."
   ]
  },
  {
   "cell_type": "code",
   "execution_count": 16,
   "id": "bf142153",
   "metadata": {},
   "outputs": [
    {
     "name": "stdout",
     "output_type": "stream",
     "text": [
      "clip level: 0.8, SNR: 51.3, loss: 2.33, n_iter: 181\n",
      "clip level: 0.6, SNR: 39.45, loss: 2.86, n_iter: 193\n",
      "clip level: 0.4, SNR: 31.97, loss: 14.46, n_iter: 318\n",
      "clip level: 0.2, SNR: 21.01, loss: 99.18, n_iter: 414\n"
     ]
    },
    {
     "data": {
      "image/png": "[encoded data removed]",
      "text/plain": [
       "<Figure size 432x288 with 1 Axes>"
      ]
     },
     "metadata": {
      "needs_background": "light"
     },
     "output_type": "display_data"
    }
   ],
   "source": [
    "theta_levels = (0.8, 0.6, 0.4, 0.2)\n",
    "for th_clip in theta_levels:\n",
    "    sound_clip = clip_signal(sound_norm, th_clip)\n",
    "    audio_rec, loss = audio_declipping(\n",
    "        sound_clip, \n",
    "        sample_rate,\n",
    "    )\n",
    "    snr_ = round(snr(sound_clip, audio_rec), 2)\n",
    "    loss_ = round(loss[-1], 2)\n",
    "    print(f\"clip level: {th_clip}, SNR: {snr_}, loss: {loss_}, n_iter: {len(loss)}\")\n",
    "    \n",
    "    plt.plot(loss)\n",
    "plt.legend(theta_levels)\n",
    "plt.show()"
   ]
  },
  {
   "cell_type": "markdown",
   "id": "30e78f7b",
   "metadata": {},
   "source": [
    "### $\\gamma$ value selection impact"
   ]
  },
  {
   "cell_type": "code",
   "execution_count": 17,
   "id": "9c941337",
   "metadata": {},
   "outputs": [
    {
     "name": "stdout",
     "output_type": "stream",
     "text": [
      "Gamma: -1, SNR: 39.64, loss: 3.01, n_iter: 436\n",
      "Gamma: -0.75, SNR: 39.66, loss: 3.01, n_iter: 1000\n",
      "Gamma: -0.5, SNR: 39.6, loss: 2.97, n_iter: 949\n",
      "Gamma: 0, SNR: 39.57, loss: 2.95, n_iter: 756\n",
      "Gamma: 0.5, SNR: 39.53, loss: 2.91, n_iter: 496\n",
      "Gamma: 0.75, SNR: 39.51, loss: 2.89, n_iter: 334\n",
      "Gamma: 0.9, SNR: 39.45, loss: 2.86, n_iter: 193\n"
     ]
    },
    {
     "data": {
      "image/png": "[encoded data removed]",
      "text/plain": [
       "<Figure size 432x288 with 1 Axes>"
      ]
     },
     "metadata": {
      "needs_background": "light"
     },
     "output_type": "display_data"
    }
   ],
   "source": [
    "sound_clip = clip_signal(sound_norm, 0.6)\n",
    "gamma_values = (-1, -0.75, -0.5, 0, 0.5, 0.75, 0.9)\n",
    "for gamma in gamma_values:\n",
    "    audio_rec, loss = audio_declipping(\n",
    "        sound_clip, \n",
    "        sample_rate,\n",
    "        gamma=gamma,\n",
    "    )\n",
    "    snr_ = round(snr(sound_clip, audio_rec), 2)\n",
    "    loss_ = round(loss[-1], 2)\n",
    "    print(f\"Gamma: {gamma}, SNR: {snr_}, loss: {loss_}, n_iter: {len(loss)}\")\n",
    "    \n",
    "    plt.plot(loss)\n",
    "    \n",
    "plt.legend(gamma_values)\n",
    "plt.show()"
   ]
  },
  {
   "cell_type": "markdown",
   "id": "7b440aec",
   "metadata": {},
   "source": [
    "### Thresholding rules"
   ]
  },
  {
   "cell_type": "code",
   "execution_count": 18,
   "id": "97674591",
   "metadata": {},
   "outputs": [
    {
     "name": "stdout",
     "output_type": "stream",
     "text": [
      "Threshold rule: soft_threshold, SNR: 39.45, loss: 2.86, n_iter: 193\n",
      "Threshold rule: wgl, SNR: 38.62, loss: 1.36, n_iter: 177\n",
      "Threshold rule: empirical_weiner, SNR: 31.53, loss: 0.8, n_iter: 287\n",
      "Threshold rule: pew, SNR: 31.48, loss: 0.45, n_iter: 224\n"
     ]
    },
    {
     "data": {
      "image/png": "[encoded data removed]",
      "text/plain": [
       "<Figure size 432x288 with 1 Axes>"
      ]
     },
     "metadata": {
      "needs_background": "light"
     },
     "output_type": "display_data"
    }
   ],
   "source": [
    "sound_clip = clip_signal(sound_norm, 0.6)\n",
    "threshold_functions = (soft_threshold,  wgl, empirical_weiner, pew)\n",
    "for threshold_fn in threshold_functions:\n",
    "    audio_rec, loss = audio_declipping(\n",
    "        sound_clip, \n",
    "        sample_rate,\n",
    "        threshold_fn=threshold_fn,\n",
    "    )\n",
    "    snr_ = round(snr(sound_clip, audio_rec), 2)\n",
    "    loss_ = round(loss[-1], 2)\n",
    "    print(f\"Threshold rule: {threshold_fn.__name__}, SNR: {snr_}, \"\n",
    "          f\"loss: {loss_}, n_iter: {len(loss)}\")\n",
    "    \n",
    "    plt.plot(loss)\n",
    "    \n",
    "plt.legend([fn.__name__ for fn in threshold_functions])\n",
    "plt.show()"
   ]
  },
  {
   "cell_type": "markdown",
   "id": "f2bcf7e9",
   "metadata": {},
   "source": [
    "## Conclusions\n",
    "- The algorithm implemented allows for audio declipping without prior knowledge of the original signal. \n",
    "- The quality of the output of the algorithm decreases together with decreasing level of $\\theta^{clip}$. The more of original signal was lost the harder it gets to reconsrtuct its original form. For lower clipping values execution of the algorithm takes longer.\n",
    "- The $\\gamma$ parameter seems not to have impact on the quality of the results however it impacts performance of the algorithm. The experiments confirm observation given in the paper that the value of $0.9$ leads to the fastest convergence.\n",
    "- Empirical Weiner thresholding rule seems to produce better results as the loss reaches lower levels however it takes longer to converge.\n",
    "- Values of $\\lambda$ parameter are crucial for the output of the algorithm however in the exercise their selection was limited to the set of values used in the paper."
   ]
  }
 ],
 "metadata": {
  "kernelspec": {
   "display_name": "Python 3",
   "language": "python",
   "name": "python3"
  },
  "language_info": {
   "codemirror_mode": {
    "name": "ipython",
    "version": 3
   },
   "file_extension": ".py",
   "mimetype": "text/x-python",
   "name": "python",
   "nbconvert_exporter": "python",
   "pygments_lexer": "ipython3",
   "version": "3.8.8"
  }
 },
 "nbformat": 4,
 "nbformat_minor": 5
}
