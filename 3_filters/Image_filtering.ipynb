{
 "cells": [
  {
   "cell_type": "markdown",
   "id": "e47d667c",
   "metadata": {},
   "source": [
    "# Image filtering\n",
    "### Author: Pawel Budzynski"
   ]
  },
  {
   "cell_type": "code",
   "execution_count": null,
   "id": "07a5090c",
   "metadata": {},
   "outputs": [],
   "source": [
    "import numpy as np\n",
    "import skimage.io\n",
    "import skimage.color\n",
    "import matplotlib.pyplot as plt"
   ]
  },
  {
   "cell_type": "markdown",
   "id": "9cc31f02",
   "metadata": {},
   "source": [
    "## Gaussian filter\n",
    "\n",
    "To generate values in each cell of the kernel the equation is used:\n",
    "$$g(x, y) = \\frac{1}{2\\pi\\sigma^2}e^{-\\frac{x^2 + y^2}{2\\sigma^{2}}}$$"
   ]
  },
  {
   "cell_type": "code",
   "execution_count": null,
   "id": "8e4d2acc",
   "metadata": {},
   "outputs": [],
   "source": [
    "def gaussian_filter(\n",
    "    image: np.ndarray,\n",
    "    size: int = 3,\n",
    ") -> np.ndarray:\n",
    "    \"\"\"Apply Gaussian filter of requested size to a grayscale image.\"\"\"\n",
    "    \n",
    "    if size%2 == 0:\n",
    "        raise TypeError(\"Kernel size must be an odd integer.\")\n",
    "    \n",
    "    # Generate Gaussian kerner of the requested size.\n",
    "    x, y = np.meshgrid(\n",
    "        np.linspace(-1, 1, size), \n",
    "        np.linspace(-1, 1, size),\n",
    "    )\n",
    "    kernel = (1/(2*np.pi))*np.exp(-(x**2 + y**2)/2)\n",
    "    \n",
    "    # Get margin respecting the kernel size.\n",
    "    m = size//2\n",
    "    # Empty matrix to store results.\n",
    "    new_img = np.zeros(image.shape)\n",
    "    # Apply zero padding so result image is the same size as original.\n",
    "    image = np.pad(image, m)\n",
    "    # Iteratively apply kernel to every pixel.\n",
    "    for i in range(new_img.shape[0]):\n",
    "        for j in range(new_img.shape[1]):\n",
    "            new_img[i][j] = np.sum(image[i:i+2*m+1,j:j+2*m+1] * kernel)\n",
    "    \n",
    "    return new_img"
   ]
  },
  {
   "cell_type": "markdown",
   "id": "ef2ce802",
   "metadata": {},
   "source": [
    "## Sobel filter\n",
    "Sobel filter to define as applying two filters to get the horizontal and vertical derivative approximations respectively. Assuming $I$ is the input image and the operator is convolution operation:\n",
    "\\begin{equation}\n",
    "G_x =\n",
    "\\begin{bmatrix}\n",
    "1 & 0 & -1\\\\\n",
    "2 & 0 & -2 \\\\\n",
    "1 & 0 & -1\n",
    "\\end{bmatrix}\\ast I,\\;\\;\n",
    "G_y = \n",
    "\\begin{bmatrix}\n",
    "1 & 2 & 1\\\\\n",
    "0 & 0 & 0 \\\\\n",
    "-1 & -2 & -1\n",
    "\\end{bmatrix}\\ast I,\n",
    "\\end{equation}\n",
    "then compute the result as a gradient magnitute\n",
    "$$G = \\sqrt{{G_x}^2 + {G_y}^2}. $$"
   ]
  },
  {
   "cell_type": "code",
   "execution_count": null,
   "id": "c092dd21",
   "metadata": {},
   "outputs": [],
   "source": [
    "def sobel_filter(image: np.ndarray) -> np.ndarray:\n",
    "    \"\"\"Apply Sobel filter to a grayscale image.\"\"\"\n",
    "    # Horizontal derivative kernel.\n",
    "    gx = np.array([\n",
    "        [1, 0, -1],\n",
    "        [2, 0, -2],\n",
    "        [1, 0, -1],\n",
    "    ])\n",
    "    # Vertical derivarive kernel.\n",
    "    gy = np.array([\n",
    "        [1, 2, 1],\n",
    "        [0, 0, 0],\n",
    "        [-1, -2, -1],\n",
    "    ])\n",
    "    # Matrices to store partial results.\n",
    "    x_image = np.zeros(image.shape)\n",
    "    y_image = np.zeros(image.shape)\n",
    "    # Apply zero padding so output image has the same size as original.\n",
    "    image = np.pad(image, 1)\n",
    "    # Iteratively apply filters to every pixel.\n",
    "    for i in range(x_image.shape[0]):\n",
    "        for j in range(x_image.shape[1]):\n",
    "            x_image[i][j] = np.sum(image[i:i+3,j:j+3] * gx)\n",
    "            y_image[i][j] = np.sum(image[i:i+3,j:j+3] * gy)\n",
    "    \n",
    "    # Compute gradient magnitude.\n",
    "    return np.sqrt(x_image**2 + y_image**2)"
   ]
  },
  {
   "cell_type": "markdown",
   "id": "8bd833d3",
   "metadata": {},
   "source": [
    "## Averaging filter\n",
    "The filter adds up values covered by the kernel and then compute an average. In practice it might be considered as applying following convolution (assuming kernel size equals 3 as an example):\n",
    "\n",
    "\\begin{equation}\n",
    "K = \\frac{1}{9}\n",
    "\\begin{bmatrix}\n",
    "1 & 1 & 1\\\\\n",
    "1 & 1 & 1 \\\\\n",
    "1 & 1 & 1\n",
    "\\end{bmatrix}.\n",
    "\\end{equation}"
   ]
  },
  {
   "cell_type": "code",
   "execution_count": null,
   "id": "bead83be",
   "metadata": {},
   "outputs": [],
   "source": [
    "def avg_filter(\n",
    "    image: np.ndarray, \n",
    "    size: int = 3,\n",
    ") -> np.ndarray:\n",
    "    \"\"\"Apply averaging filter of a requested size to a grayscale image.\"\"\"\n",
    "    \n",
    "    if size%2 == 0:\n",
    "        raise TypeError(\"Kernel size must be an odd integer.\")\n",
    "    \n",
    "    # Empty matrix to store results.\n",
    "    new_img = np.zeros(image.shape)\n",
    "    # Get margin respecting kernel size.\n",
    "    m = size//2\n",
    "    # Apply zero padding so the output image has the same size as original.\n",
    "    image = np.pad(image, m)\n",
    "    # Iteratively sum values a pixel and its neighbours for every pixel.\n",
    "    for i in range(new_img.shape[0]):\n",
    "        for j in range(new_img.shape[1]):\n",
    "            new_img[i][j] = np.sum(image[i:i+2*m+1,j:j+2*m+1])\n",
    "    # Get average value by simply divided by amount of pixels added.\n",
    "    return new_img / (size*size)"
   ]
  },
  {
   "cell_type": "markdown",
   "id": "29c04984",
   "metadata": {},
   "source": [
    "## Gradient filter\n",
    "Compute gradient approximation using finite differences. For horizontal and vertical gradient it is realized by appllying following filters:\n",
    "\\begin{equation}\n",
    "G_x =\\begin{bmatrix}\n",
    "1 \\\\\n",
    "0 \\\\\n",
    "-1\n",
    "\\end{bmatrix}\n",
    ",\\;\\;\n",
    "G_y = \n",
    "\\begin{bmatrix}\n",
    "1 & 0 & -1\n",
    "\\end{bmatrix}.\n",
    "\\end{equation}"
   ]
  },
  {
   "cell_type": "code",
   "execution_count": null,
   "id": "d057e691",
   "metadata": {},
   "outputs": [],
   "source": [
    "def gradient_filter(\n",
    "    image: np.ndarray, \n",
    "    axis: str = 'x',\n",
    ") -> np.ndarray:\n",
    "    \"\"\"Apply gradient filter to a grayscale along given axis.\"\"\"\n",
    "    \n",
    "    # Empty matrix to store results.\n",
    "    new_image = np.zeros(image.shape)\n",
    "    if axis == 'x':\n",
    "        # Apply zero padding to preserve original image size.\n",
    "        image = np.pad(image, ((1,1), (0,0)))\n",
    "        # For each row sum values from the row above and the row below.\n",
    "        for i in range(new_image.shape[0]):\n",
    "            new_image[i] = image[i+2] - image[i]\n",
    "    elif axis == 'y':\n",
    "        # Apply zero padding to preserve original image size.\n",
    "        image = np.pad(image, ((0,0), (1,1)))\n",
    "        # For each column sum values from the column to the left and to the right.\n",
    "        for j in range(new_image.shape[1]):\n",
    "            new_image[:,j] = image[:,j+2] - image[:,j]\n",
    "    return new_image"
   ]
  },
  {
   "cell_type": "code",
   "execution_count": null,
   "id": "50752bc0",
   "metadata": {},
   "outputs": [],
   "source": [
    "image = skimage.io.imread('barbara.jpg')\n",
    "image = skimage.color.rgb2gray(image)"
   ]
  },
  {
   "cell_type": "code",
   "execution_count": null,
   "id": "96668f60",
   "metadata": {},
   "outputs": [],
   "source": [
    "new_image = gaussian_filter(image, size=11)\n",
    "print(\"Output shape: \", new_image.shape)\n",
    "plt.imshow(new_image, cmap='gray')\n",
    "plt.title(\"Gaussian filter.\")\n",
    "plt.show()"
   ]
  },
  {
   "cell_type": "code",
   "execution_count": null,
   "id": "821fcebb",
   "metadata": {},
   "outputs": [],
   "source": [
    "new_image = sobel_filter(image)\n",
    "print(\"Output shape: \", new_image.shape)\n",
    "plt.imshow(new_image, cmap='gray')\n",
    "plt.title(\"Sobel filter.\")\n",
    "plt.show()"
   ]
  },
  {
   "cell_type": "code",
   "execution_count": null,
   "id": "3c67e8ca",
   "metadata": {},
   "outputs": [],
   "source": [
    "new_image = avg_filter(image, size=7)\n",
    "print(\"Output shape: \", new_image.shape)\n",
    "plt.imshow(new_image, cmap='gray')\n",
    "plt.title(\"Averaging filter.\")\n",
    "plt.show()"
   ]
  },
  {
   "cell_type": "code",
   "execution_count": null,
   "id": "5156bfdf",
   "metadata": {},
   "outputs": [],
   "source": [
    "new_image = gradient_filter(image, axis='x')\n",
    "print(\"Output shape: \", new_image.shape)\n",
    "plt.imshow(new_image, cmap='gray')\n",
    "plt.title(\"Gradient filter along x axis.\")\n",
    "plt.show()"
   ]
  },
  {
   "cell_type": "code",
   "execution_count": null,
   "id": "b84b5413",
   "metadata": {},
   "outputs": [],
   "source": [
    "new_image = gradient_filter(image, axis='y')\n",
    "print(\"Output shape: \", new_image.shape)\n",
    "plt.imshow(new_image, cmap='gray')\n",
    "plt.title(\"Gradient filter along y axis.\")\n",
    "plt.show()"
   ]
  },
  {
   "cell_type": "markdown",
   "id": "282c1fc8",
   "metadata": {},
   "source": [
    "Compare Sobel filter result with example on Wikipedia: https://en.wikipedia.org/wiki/Sobel_operator"
   ]
  },
  {
   "cell_type": "code",
   "execution_count": null,
   "id": "9c76fa76",
   "metadata": {},
   "outputs": [],
   "source": [
    "image2 = skimage.io.imread('image.png')\n",
    "image2 = skimage.color.rgb2gray(image2)\n",
    "new_image2 = sobel_filter(image2)\n",
    "\n",
    "print(\"Original shape:\", image2.shape)\n",
    "print(\"Output shape: \", new_image2.shape)\n",
    "\n",
    "fig = plt.figure(figsize=(50, 200))\n",
    "plt.subplot(1, 2, 1)\n",
    "plt.imshow(image2, cmap='gray')\n",
    "plt.subplot(1, 2, 2)\n",
    "plt.imshow(new_image2, cmap='gray')\n",
    "plt.show()"
   ]
  },
  {
   "cell_type": "code",
   "execution_count": null,
   "id": "bc1e15be",
   "metadata": {},
   "outputs": [],
   "source": []
  }
 ],
 "metadata": {
  "kernelspec": {
   "display_name": "Python 3",
   "language": "python",
   "name": "python3"
  },
  "language_info": {
   "codemirror_mode": {
    "name": "ipython",
    "version": 3
   },
   "file_extension": ".py",
   "mimetype": "text/x-python",
   "name": "python",
   "nbconvert_exporter": "python",
   "pygments_lexer": "ipython3",
   "version": "3.8.8"
  }
 },
 "nbformat": 4,
 "nbformat_minor": 5
}
